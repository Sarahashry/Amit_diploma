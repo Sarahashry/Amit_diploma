{
  "cells": [
    {
      "cell_type": "markdown",
      "metadata": {
        "id": "ldcMKu6MQeuh"
      },
      "source": [
        "## Write a Numpy program to compute the multiplication of two given matrixes"
      ]
    },
    {
      "cell_type": "code",
      "execution_count": 13,
      "metadata": {
        "id": "IuEithr5Qeup"
      },
      "outputs": [],
      "source": [
        "import numpy as np\n",
        "def mult(mat1,mat2):\n",
        "    return np.dot(mat1,mat2)"
      ]
    },
    {
      "cell_type": "code",
      "execution_count": 16,
      "metadata": {
        "colab": {
          "base_uri": "https://localhost:8080/"
        },
        "id": "Vyr4tpt_Qeuq",
        "outputId": "5a96b52c-76bb-4c16-ae5c-687822333b85"
      },
      "outputs": [
        {
          "output_type": "execute_result",
          "data": {
            "text/plain": [
              "array([[30, 36],\n",
              "       [84, 99]])"
            ]
          },
          "metadata": {},
          "execution_count": 16
        }
      ],
      "source": [
        "mat1 = np.array([[1,2,3],\n",
        "                 [4,5,6]])\n",
        "mat2 = np.array([[7,8],\n",
        "                 [10,11],\n",
        "                 [1,2]])\n",
        "mult(mat1,mat2)"
      ]
    },
    {
      "cell_type": "markdown",
      "metadata": {
        "id": "pHcR4m98Qeur"
      },
      "source": [
        "## Write a NumPy program to compute the determinant of a given square array"
      ]
    },
    {
      "cell_type": "code",
      "execution_count": 11,
      "metadata": {
        "colab": {
          "base_uri": "https://localhost:8080/"
        },
        "id": "AJ95hpEMQeur",
        "outputId": "90980dbb-e6a6-4cb2-ab75-8b26035a91a9"
      },
      "outputs": [
        {
          "output_type": "execute_result",
          "data": {
            "text/plain": [
              "1.0"
            ]
          },
          "metadata": {},
          "execution_count": 11
        }
      ],
      "source": [
        "arr = np.identity(3)\n",
        "np.linalg.det(arr)"
      ]
    },
    {
      "cell_type": "code",
      "execution_count": null,
      "metadata": {
        "id": "FxBXYaXTQeur"
      },
      "outputs": [],
      "source": [
        ""
      ]
    },
    {
      "cell_type": "markdown",
      "metadata": {
        "id": "iYx916gRQeus"
      },
      "source": [
        "## Write a NumPy program to compute the cross product of two given vectors"
      ]
    },
    {
      "cell_type": "code",
      "execution_count": 17,
      "metadata": {
        "colab": {
          "base_uri": "https://localhost:8080/"
        },
        "id": "fmWP5wL7Qeus",
        "outputId": "88ea4b9b-6d8a-4c41-d342-d883720f75d2"
      },
      "outputs": [
        {
          "output_type": "execute_result",
          "data": {
            "text/plain": [
              "array([ 10, -20,  10])"
            ]
          },
          "metadata": {},
          "execution_count": 17
        }
      ],
      "source": [
        "v1 = np.array([11,12,13])\n",
        "v2 = np.array([1,2,3])\n",
        "np.cross(v1,v2)"
      ]
    },
    {
      "cell_type": "code",
      "execution_count": null,
      "metadata": {
        "id": "-lZYGgoQQeut"
      },
      "outputs": [],
      "source": [
        ""
      ]
    },
    {
      "cell_type": "markdown",
      "metadata": {
        "id": "MLTUH5QhQeuu"
      },
      "source": [
        "## Write a NumPy program to compute the condition number of a given matrix"
      ]
    },
    {
      "cell_type": "code",
      "execution_count": 18,
      "metadata": {
        "id": "GDDQxfP5Qeuu"
      },
      "outputs": [],
      "source": [
        "def condition(matx):\n",
        "  return np.linalg.cond(matx)"
      ]
    },
    {
      "cell_type": "code",
      "execution_count": 24,
      "metadata": {
        "colab": {
          "base_uri": "https://localhost:8080/"
        },
        "id": "xaA_LTLbQeuu",
        "outputId": "8a84cb33-2c65-4294-ca9f-063697b19ee0"
      },
      "outputs": [
        {
          "output_type": "stream",
          "name": "stdout",
          "text": [
            "[[1 2 3]\n",
            " [4 5 6]\n",
            " [7 8 9]]\n"
          ]
        },
        {
          "output_type": "execute_result",
          "data": {
            "text/plain": [
              "3.813147060626918e+16"
            ]
          },
          "metadata": {},
          "execution_count": 24
        }
      ],
      "source": [
        "matrix = np.arange(1,10).reshape(3,3)\n",
        "print(matrix)\n",
        "condition(matrix)"
      ]
    },
    {
      "cell_type": "markdown",
      "metadata": {
        "id": "OmPPcLT8Qeuu"
      },
      "source": [
        "## Write a NumPy program to compute the inverse of a given matrix"
      ]
    },
    {
      "cell_type": "code",
      "execution_count": 12,
      "metadata": {
        "id": "5ItIYKW6Qeuv"
      },
      "outputs": [],
      "source": [
        "def inverse(matx):\n",
        "  return np.linalg.inv(matx)"
      ]
    },
    {
      "cell_type": "code",
      "execution_count": 7,
      "metadata": {
        "colab": {
          "base_uri": "https://localhost:8080/"
        },
        "id": "1Y2H9WfqQeuv",
        "outputId": "a8f6a06e-8d6f-4c36-882a-80219485da6f"
      },
      "outputs": [
        {
          "output_type": "execute_result",
          "data": {
            "text/plain": [
              "array([[-0.21568627,  0.0627451 ],\n",
              "       [ 0.15686275, -0.02745098]])"
            ]
          },
          "metadata": {},
          "execution_count": 7
        }
      ],
      "source": [
        "mat = np.array([[ 7, 16],\n",
        "                [40, 55]])\n",
        "inverse(mat)"
      ]
    },
    {
      "cell_type": "code",
      "execution_count": null,
      "metadata": {
        "id": "qcpXr0sfQeuv"
      },
      "outputs": [],
      "source": [
        ""
      ]
    }
  ],
  "metadata": {
    "kernelspec": {
      "display_name": "Python 3",
      "language": "python",
      "name": "python3"
    },
    "language_info": {
      "codemirror_mode": {
        "name": "ipython",
        "version": 3
      },
      "file_extension": ".py",
      "mimetype": "text/x-python",
      "name": "python",
      "nbconvert_exporter": "python",
      "pygments_lexer": "ipython3",
      "version": "3.7.3"
    },
    "colab": {
      "name": "assignment 2 DS_sarah.ipynb",
      "provenance": []
    }
  },
  "nbformat": 4,
  "nbformat_minor": 0
}