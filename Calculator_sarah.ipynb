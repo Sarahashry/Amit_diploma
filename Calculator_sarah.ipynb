{
 "cells": [
  {
   "cell_type": "code",
   "execution_count": 16,
   "id": "04321abb",
   "metadata": {},
   "outputs": [
    {
     "name": "stdout",
     "output_type": "stream",
     "text": [
      "please enter first number :8\n",
      "please enter second number :9\n",
      "Please select operation -\n",
      "add\n",
      "17\n",
      "Another Operation? Enter Y if yes\n",
      "y\n"
     ]
    }
   ],
   "source": [
    "rebeat = True\n",
    "while rebeat:\n",
    "    rebeat = False\n",
    "    n1 = input('please enter first number :')\n",
    "    n2 = input('please enter second number :')\n",
    "    op = input(\"Please select operation -\\n\") \n",
    "\n",
    "    if op == 'add':\n",
    "        result = int(n1) + int(n2)\n",
    "        print(result)\n",
    "    elif op == 'sub':\n",
    "        result = int(n1) - int(n2)\n",
    "        print(result)\n",
    "    elif op == 'mult':\n",
    "        result = int(n1) * int(n2)\n",
    "        print(result)\n",
    "    elif op == 'div':\n",
    "        result = int(n1) / int(n2)\n",
    "        print(result)\n",
    "    else:\n",
    "        print('please enter a valid operation ')\n",
    "        continue\n",
    "        \n",
    "    if rebeat == False:\n",
    "        Option = input(\"Another Operation? Enter Y if yes\\n\")\n",
    "        if Option == 'Y':\n",
    "            rebeat = True\n",
    "        else:\n",
    "            break\n",
    "\n",
    "\n",
    "   "
   ]
  },
  {
   "cell_type": "code",
   "execution_count": null,
   "id": "ec6dd947",
   "metadata": {},
   "outputs": [],
   "source": []
  },
  {
   "cell_type": "code",
   "execution_count": null,
   "id": "31e5fea6",
   "metadata": {},
   "outputs": [],
   "source": []
  }
 ],
 "metadata": {
  "kernelspec": {
   "display_name": "Python 3 (ipykernel)",
   "language": "python",
   "name": "python3"
  },
  "language_info": {
   "codemirror_mode": {
    "name": "ipython",
    "version": 3
   },
   "file_extension": ".py",
   "mimetype": "text/x-python",
   "name": "python",
   "nbconvert_exporter": "python",
   "pygments_lexer": "ipython3",
   "version": "3.9.12"
  }
 },
 "nbformat": 4,
 "nbformat_minor": 5
}
